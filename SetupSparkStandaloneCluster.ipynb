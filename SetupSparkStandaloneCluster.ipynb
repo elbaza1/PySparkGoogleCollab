{
  "nbformat": 4,
  "nbformat_minor": 0,
  "metadata": {
    "colab": {
      "name": "SetupSparkStandaloneCluster.ipynb",
      "provenance": [],
      "collapsed_sections": [],
      "toc_visible": true,
      "include_colab_link": true
    },
    "kernelspec": {
      "name": "python3",
      "display_name": "Python 3"
    }
  },
  "cells": [
    {
      "cell_type": "markdown",
      "metadata": {
        "id": "view-in-github",
        "colab_type": "text"
      },
      "source": [
        "<a href=\"https://colab.research.google.com/github/elbaza1/PySparkGoogleCollab/blob/master/SetupSparkStandaloneCluster.ipynb\" target=\"_parent\"><img src=\"https://colab.research.google.com/assets/colab-badge.svg\" alt=\"Open In Colab\"/></a>"
      ]
    },
    {
      "cell_type": "code",
      "metadata": {
        "id": "dq-NPEouEn8w",
        "colab_type": "code",
        "colab": {}
      },
      "source": [
        "# ********************************** Spark 2.3.x Env Setup For Google Collab ********************************** #\n",
        "\n",
        "# download spark 2.3\n",
        "!wget -q http://mirror.its.dal.ca/apache/spark/spark-2.3.4/spark-2.3.4-bin-hadoop2.7.tgz \n",
        "\n",
        "# extract spark archive\n",
        "!tar xf /content/spark-2.3.4-bin-hadoop2.7.tgz\n",
        "\n",
        "# install findspark, numpy, pandas, matplotlib\n",
        "!pip install -q findspark\n",
        "!pip install -q numpy\n",
        "!pip install -q pandas\n",
        "!pip install -q matplotlib\n",
        "\n",
        "# install ssh server\n",
        "!sudo apt-get install -y -qq openssh-server\n",
        "\n",
        "# generate key\n",
        "!ssh-keygen\n",
        "\n",
        "# move authorize generated keys\n",
        "!sudo cat /root/.ssh/id_rsa.pub >> /root/.ssh/authorized_keys\n",
        "\n",
        "# restart ssh service\n",
        "!sudo service ssh restart\n",
        "\n",
        "# start all spark daemons including master slave (standalone)\n",
        "!sudo spark-2.3.4-bin-hadoop2.7/sbin/start-all.sh\n",
        "\n",
        "# check processes are started, OK\n",
        "!jps\n",
        "\n",
        "# ********************************** end of setup ********************************** #\n"
      ],
      "execution_count": 0,
      "outputs": []
    },
    {
      "cell_type": "code",
      "metadata": {
        "id": "PEq6vJOuErtG",
        "colab_type": "code",
        "colab": {}
      },
      "source": [
        "import os\n",
        "import findspark\n",
        "\n",
        "# set java and spark home directory as env, it can be done using spark-env or bash_profile instead...\n",
        "os.environ[\"JAVA_HOME\"] = \"/usr/lib/jvm/java-8-openjdk-amd64\"\n",
        "os.environ[\"SPARK_HOME\"] = \"/content/spark-2.3.4-bin-hadoop2.7/\"\n",
        "\n",
        "findspark.init() # finds the spark install, findspark helps using pyspark as a regular library\n",
        "\n",
        "from pyspark.sql import SparkSession\n",
        "# initialize SparkSession\n",
        "spark = SparkSession.builder \\\n",
        "    .master(\"local[*]\") \\\n",
        "    .appName(\"App_Name\") \\\n",
        "    .getOrCreate()\n",
        "\n",
        "# set the log level to WARN\n",
        "spark.sparkContext.setLogLevel('WARN')\n"
      ],
      "execution_count": 0,
      "outputs": []
    },
    {
      "cell_type": "code",
      "metadata": {
        "id": "d8FfKaMpGCKa",
        "colab_type": "code",
        "colab": {}
      },
      "source": [
        "# for launching spark scripts\n",
        "# !spark-2.3.4-bin-hadoop2.7/bin/spark-submit --master sparkMaster/local script.py"
      ],
      "execution_count": 0,
      "outputs": []
    }
  ]
}